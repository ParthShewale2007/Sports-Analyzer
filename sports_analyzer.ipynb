{
 "cells": [
  {
   "cell_type": "markdown",
   "id": "6ed64ec8",
   "metadata": {},
   "source": [
    "### Analyzing Sports Athletes "
   ]
  },
  {
   "cell_type": "code",
   "execution_count": 4,
   "id": "d965e318",
   "metadata": {},
   "outputs": [],
   "source": [
    "import pandas as pd\n",
    "import numpy as np"
   ]
  },
  {
   "cell_type": "markdown",
   "id": "8f29b838",
   "metadata": {},
   "source": [
    "### Data of Players"
   ]
  },
  {
   "cell_type": "code",
   "execution_count": 10,
   "id": "cdc31fd0",
   "metadata": {},
   "outputs": [],
   "source": [
    "data = {\n",
    "    'Player': ['Messi', 'Ronaldo', 'Mbappe', 'Haaland', 'Neymar', 'Kane'],\n",
    "    'Team': ['PSG', 'Al-Nassr', 'PSG', 'Man City', 'Al-Hilal', 'Bayern'],\n",
    "    'Matches': [30, 32, 28, 31, 25, 29],\n",
    "    'Goals': [25, 22, 27, 30, 15, 18],\n",
    "    'Assists': [18, 6, 12, 5, 10, 9],\n",
    "    'Yellow Cards': [3, 5, 4, 2, 6, 2],\n",
    "    'Red Cards': [0, 1, 0, 0, 1, 0]\n",
    "}"
   ]
  },
  {
   "cell_type": "code",
   "execution_count": 12,
   "id": "b2a89001",
   "metadata": {},
   "outputs": [
    {
     "name": "stdout",
     "output_type": "stream",
     "text": [
      "    Player      Team  Matches  Goals  Assists  Yellow Cards  Red Cards\n",
      "0    Messi       PSG       30     25       18             3          0\n",
      "1  Ronaldo  Al-Nassr       32     22        6             5          1\n",
      "2   Mbappe       PSG       28     27       12             4          0\n",
      "3  Haaland  Man City       31     30        5             2          0\n",
      "4   Neymar  Al-Hilal       25     15       10             6          1\n",
      "5     Kane    Bayern       29     18        9             2          0\n"
     ]
    }
   ],
   "source": [
    "df = pd.DataFrame(data)\n",
    "print(df)"
   ]
  },
  {
   "cell_type": "markdown",
   "id": "4f7aa23a",
   "metadata": {},
   "source": [
    "### Goals and Assists per Match"
   ]
  },
  {
   "cell_type": "code",
   "execution_count": 20,
   "id": "bf560834",
   "metadata": {},
   "outputs": [],
   "source": [
    "df['Goals_per_match'] = np.round(df['Goals'] / df['Matches'], 2)\n",
    "df['Assists_per_match'] = np.round(df['Assists'] / df['Matches'], 2)"
   ]
  },
  {
   "cell_type": "markdown",
   "id": "b299e209",
   "metadata": {},
   "source": [
    "### Efficiency of Players"
   ]
  },
  {
   "cell_type": "code",
   "execution_count": null,
   "id": "89c58d87",
   "metadata": {},
   "outputs": [],
   "source": [
    "# How effciency is calculated ?\n",
    "# Efficiency = (((Goals * 0.6 + Assists * 0.4) / Matches) - (Yellow Cards * 0.05 + Red Cards * 0.2))\n",
    "# How many points are given ?\n",
    "# Goals = 0.6, Assists = 0.4, Yellow Cards = 0.05, Red Cards = 0.2\n",
    "# Points for Goals and Assists are calculated per match and divided by Total Matches Played, then Points of Yellow and Red Cards and deducted \n",
    "# At last np.round() is used to round the values\n",
    "\n",
    "df['Efficiency'] = np.round(\n",
    "    ((df['Goals'] * 0.6 + df['Assists'] * 0.4) / df['Matches']) -\n",
    "    (df['Yellow Cards'] * 0.05 + df['Red Cards'] * 0.2),\n",
    "    2\n",
    ")"
   ]
  },
  {
   "cell_type": "code",
   "execution_count": 18,
   "id": "0dc3513d",
   "metadata": {},
   "outputs": [],
   "source": [
    "top_performers = df.sort_values(by='Efficiency', ascending=False).head(3)"
   ]
  },
  {
   "cell_type": "markdown",
   "id": "c2dae2e6",
   "metadata": {},
   "source": [
    "### Final Report"
   ]
  },
  {
   "cell_type": "code",
   "execution_count": 17,
   "id": "a8fd1b2b",
   "metadata": {},
   "outputs": [
    {
     "name": "stdout",
     "output_type": "stream",
     "text": [
      "📋 Full Player Stats:\n",
      "     Player      Team  Matches  Goals  Assists  Yellow Cards  Red Cards  \\\n",
      "0    Messi       PSG       30     25       18             3          0   \n",
      "1  Ronaldo  Al-Nassr       32     22        6             5          1   \n",
      "2   Mbappe       PSG       28     27       12             4          0   \n",
      "3  Haaland  Man City       31     30        5             2          0   \n",
      "4   Neymar  Al-Hilal       25     15       10             6          1   \n",
      "5     Kane    Bayern       29     18        9             2          0   \n",
      "\n",
      "   Goals_per_match  Assists_per_match  Efficiency  \n",
      "0             0.83               0.60        0.59  \n",
      "1             0.69               0.19        0.04  \n",
      "2             0.96               0.43        0.55  \n",
      "3             0.97               0.16        0.55  \n",
      "4             0.60               0.40        0.02  \n",
      "5             0.62               0.31        0.40  \n",
      "\n",
      "🏅 Top 3 Players by Efficiency:\n",
      "     Player  Efficiency\n",
      "0    Messi        0.59\n",
      "2   Mbappe        0.55\n",
      "3  Haaland        0.55\n"
     ]
    }
   ],
   "source": [
    "print(\"📋 Full Player Stats:\\n\", df)\n",
    "print(\"\\n🏅 Top 3 Players by Efficiency:\\n\", top_performers[['Player', 'Efficiency']])"
   ]
  }
 ],
 "metadata": {
  "kernelspec": {
   "display_name": "venv",
   "language": "python",
   "name": "python3"
  },
  "language_info": {
   "codemirror_mode": {
    "name": "ipython",
    "version": 3
   },
   "file_extension": ".py",
   "mimetype": "text/x-python",
   "name": "python",
   "nbconvert_exporter": "python",
   "pygments_lexer": "ipython3",
   "version": "3.13.3"
  }
 },
 "nbformat": 4,
 "nbformat_minor": 5
}
